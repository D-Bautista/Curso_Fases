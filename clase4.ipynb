{
  "cells": [
    {
      "cell_type": "markdown",
      "metadata": {},
      "source": [
        "# Implementación del campo magnético\n",
        "\n",
        "En esta clase implementaremos la acción de un campo magnético perpendicular a nuestro material. \n"
      ],
      "id": "0820e774"
    },
    {
      "cell_type": "code",
      "metadata": {},
      "source": [
        "from pylab import *\n",
        "from pythtb import *"
      ],
      "id": "fb67cc64",
      "execution_count": null,
      "outputs": []
    },
    {
      "cell_type": "markdown",
      "metadata": {},
      "source": [
        "## Visualización de los niveles de energía\n",
        "\n",
        "Utilizamos el Hamiltoniano que usamos la clase pasada.\n"
      ],
      "id": "f8cce590"
    },
    {
      "cell_type": "code",
      "metadata": {},
      "source": [
        "a1  = array([1,0])\n",
        "a2  = array([0,1])\n",
        "\n",
        "vectoresRed = array([a1,a2]) #0*a1 + 0*a2\n",
        "\n",
        "sitio = array([1/2,1/2]) #Sitio del orbital\n",
        "\n",
        "orbitales = array([sitio]) #Lista con todos los itios. \n",
        "\n",
        "# Definimos el Hamiltoniano de amarre fuerte.\n",
        "cuadrada = tb_model(2,2, vectoresRed, orbitales)\n",
        "\n",
        "#Definimos los hoppings.\n",
        "t = 1\n",
        "cuadrada.set_hop(t,0,0,[1,0])\n",
        "# Enlace entre orbital 0 y orbital 0 desplazo por 1*a1 + 0*a2\n",
        "cuadrada.set_hop(t,0,0,[0,-1])\n",
        "# Enlace entre orbital 0 y orbital 0 desplazo por 0*a1 + 1*a2\n",
        "\n",
        "cuadrada.visualize(0,1)\n",
        "# (0,1) significa en la dirección de a1 y a2. "
      ],
      "id": "8eb52c42",
      "execution_count": null,
      "outputs": []
    },
    {
      "cell_type": "markdown",
      "metadata": {},
      "source": [
        "Para obtener la estructura de bandas, debemos tomar un camino en el espacio recíproco. PythTB sabe crear un camino si se le dan de entrada puntos que definen el camino en la base del espacio recíproco. Debajo, definimos dichos puntos y usamos la función *k_path*. Esta función toma como entrada la serie de puntos que define el camino y el número de puntosa tomar. Luego, podemos usar la función *solve_all* usando como entrada el k_vec obtenido. \n"
      ],
      "id": "84945ebd"
    },
    {
      "cell_type": "code",
      "metadata": {},
      "source": [
        "PuntosaRecorrer = [[0,0], # 0 * b1 + 0 * b2\n",
        "                   [1/2,0], # 1/2 * b1 + 0 * b2\n",
        "                    [1/2,1/2]] # 1/2 * b1 + 1/2 * b2\n",
        "\n",
        "# Una vez dados los puntos, podemos \n",
        "k_vec,k_dist,k_node = cuadrada.k_path(PuntosaRecorrer,1001)\n",
        "\n",
        "\n",
        "Ek = cuadrada.solve_all(k_vec)"
      ],
      "id": "3f7e3ac4",
      "execution_count": null,
      "outputs": []
    },
    {
      "cell_type": "code",
      "metadata": {},
      "source": [
        "\"\"\" Ek tiene forma (nband,kpoints), donde nband es el número de bandas y kpoints el número de puntos k\n",
        "en el camino usado. Por eso debemos trasponer, para \n",
        "tener una gráfica donde se grafiquen puntos k vs los \n",
        "1001 valores de energía. \n",
        "\"\"\"\n",
        "plot(k_dist,Ek.T)"
      ],
      "id": "4602d507",
      "execution_count": null,
      "outputs": []
    },
    {
      "cell_type": "code",
      "metadata": {},
      "source": [
        "# Una alternativa a trasponer es tomar el renglón cero.\n",
        "plot(k_dist,Ek[0])"
      ],
      "id": "1c9da586",
      "execution_count": null,
      "outputs": []
    },
    {
      "cell_type": "markdown",
      "metadata": {},
      "source": [
        "Para dar más estilo a esta gráfica recurrimos a la variable k_node. Esta variable contiene que valor entre 0 y 1 corresponde a cada uno de los puntos usados. Por ello, podemos usar k_node como ticks. \n"
      ],
      "id": "c6ef2f85"
    },
    {
      "cell_type": "code",
      "metadata": {},
      "source": [
        "# Una alternativa a trasponer es tomar el renglón cero.\n",
        "print(k_node)"
      ],
      "id": "76777296",
      "execution_count": null,
      "outputs": []
    },
    {
      "cell_type": "markdown",
      "metadata": {},
      "source": [
        "Haciendo eso, tenemos lo siguiente \n"
      ],
      "id": "f33f4db5"
    },
    {
      "cell_type": "code",
      "metadata": {},
      "source": [
        "# Una alternativa a trasponer es tomar el renglón cero.\n",
        "plot(k_dist,Ek[0])\n",
        "xticks(k_node, labels = [\"$ \\Gamma $\",\"X\",\"XY\"])"
      ],
      "id": "d34fd092",
      "execution_count": null,
      "outputs": []
    },
    {
      "cell_type": "markdown",
      "metadata": {},
      "source": [
        "Ya viendo como graficar las bandas, podemos proceder a añadir el campo magnético. Para ello, partimos del potencial vector $$\\vec{A} = \\left(-By,0,0\\right) \\Longrightarrow \\vec{B} = B \\hat{e}_{z}.$$ La forma de añadir el campo magnético es mediante la substitución de Peierls $$t_{\\vec{A}}^{i \\rightarrow j} = t_{\\vec{A} = \\vec{0}}^{i \\rightarrow j}\\exp\\left[\\frac{iq}{h}\\int_{\\vec{r}_{i}}^{\\vec{r}_{j}} \\vec{A}\\cdot \\text{d}\\vec{r}\\right].$$\n",
        "\n",
        "El primer enlace va de $\\vec{r}_{i} = [0,0]$ a $\\vec{r}_{j} = [0,1]$. En este caso $$\\int_{\\vec{r}_{i}}^{\\vec{r}_{j}} \\vec{A}\\cdot \\text{d}\\vec{r} = - B\\frac{y_{i} + y_{j}}{2}(x_{j} - x_{i}).$$\n",
        "\n",
        "::: {.callout-important}\n",
        "## Elección del potencial vector\n",
        "\n",
        "A la hora de elegir el potencial vector debemos tener cuidado con que este cumpla las condiciones de frontera. Es decir, si el sistema es periódico en $x$, por ejemplo, el potencial vector debe ser periódico en $x$. \n",
        ":::\n",
        "\n",
        "En este caso, tomaremos un sistema que **es periódico en dirección x** con tal de que nuestro potencial $\\vec{A}$ pueda describir el sistema. \n"
      ],
      "id": "33ff2083"
    },
    {
      "cell_type": "code",
      "metadata": {},
      "source": [
        "sc = cuadrada.cut_piece([[1,0],[0,1]])"
      ],
      "id": "ce512fbe",
      "execution_count": null,
      "outputs": []
    }
  ],
  "metadata": {
    "kernelspec": {
      "name": "python3",
      "language": "python",
      "display_name": "Python 3 (ipykernel)"
    }
  },
  "nbformat": 4,
  "nbformat_minor": 5
}