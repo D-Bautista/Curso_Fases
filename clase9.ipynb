{
  "cells": [
    {
      "cell_type": "markdown",
      "metadata": {},
      "source": [
        "# Modelo de C. L. Kane and E. J. Mele\n",
        "\n",
        "Este modelo buscaba conseguir un efecto Hall cuántico usando el espín en grafeno. El modelo se propuso en 2005, casi a la par del descubrimiento del grafeno. En su artículo, Kane y Mele fueron los primeros en hacer mención de efectos topológicos.\n",
        "\n",
        "El Hamiltoniano de est sistema es $$\\begin{equation} \n",
        "\\mathcal{H} = \\sum_{\\langle i j \\rangle \\alpha}\n",
        "\\end{equation} t c_{i\\alpha}^{\\dagger}c_{j\\alpha} + \\sum_{\\langle \\langle i j \\rangle \\rangle \\alpha \\beta} it_{2}\\nu_{ij} s^{z}_{\\alpha \\beta} c_{i\\alpha}^{\\dagger}c_{j \\beta}.$$ \n",
        "\n",
        "El término de espín se construye para cada hopping usando $i(\\mathbf{d}_{1}\\times \\mathbf{d}_{2}) \\cdot \\mathbf{s}.$ Esto arroja que los sitios con vectores de decorado salientes tengan fases $e^{i\\phi}S$ con $\\phi = \\pi/2$ y $e^{-i\\phi}S$ para sitios con vectores entrantes. Este término se reduce al término $\\nu_{ij}$ que toma valores de $1$ y $-1$ según la orientación.\n"
      ],
      "id": "5e029d35"
    },
    {
      "cell_type": "code",
      "metadata": {},
      "source": [
        "from pylab import *\n",
        "from pythtb import *"
      ],
      "id": "2a5b5506",
      "execution_count": null,
      "outputs": []
    },
    {
      "cell_type": "code",
      "metadata": {},
      "source": [
        "plt.rcParams['figure.figsize'] = (3,3)"
      ],
      "id": "8c2dbe8e",
      "execution_count": null,
      "outputs": []
    },
    {
      "cell_type": "code",
      "metadata": {},
      "source": [
        "a = 1.42\n",
        "a1 = (a/2) * array([sqrt(3),3])\n",
        "a2 = (a/2) * array([-sqrt(3),3])\n",
        "lat = [a1,a2]\n",
        "sitioAup = array([0,0])\n",
        "sitioBup = array([1/3,1/3])\n",
        "sitioAdown = array([0,0])\n",
        "sitioBdown = array([1/3,1/3])\n",
        "\n",
        "orb = [sitioAup,sitioBup,sitioAdown,sitioBdown]\n",
        "\n",
        "KaneMele = tb_model(2,2,lat,orb)\n",
        "\n",
        "t = 1\n",
        "\n",
        "KaneMele.set_hop(-t,0,1,[0,0])\n",
        "KaneMele.set_hop(-t,0,1,[-1,0])\n",
        "KaneMele.set_hop(-t,0,1,[0,-1])\n",
        "\n",
        "KaneMele.set_hop(-t,2,3,[0,0])\n",
        "KaneMele.set_hop(-t,2,3,[-1,0])\n",
        "KaneMele.set_hop(-t,2,3,[0,-1])\n",
        "\n",
        "t2 = 0.06*t\n",
        "phi = pi/2\n",
        "\n",
        "# Sitio A spin up\n",
        "KaneMele.set_hop(t2*exp(1J * phi),0,0,[1,0])\n",
        "KaneMele.set_hop(t2*exp(-1J * phi),0,0,[0,1])\n",
        "KaneMele.set_hop(t2*exp(1J * phi),0,0,[-1,1])\n",
        "\n",
        "# Sitio A spin down\n",
        "KaneMele.set_hop(t2*exp(-1J * phi),2,2,[1,0])\n",
        "KaneMele.set_hop(t2*exp(1J * phi),2,2,[0,1])\n",
        "KaneMele.set_hop(t2*exp(-1J * phi),2,2,[-1,1])\n",
        "\n",
        "# Sitio B spin up\n",
        "KaneMele.set_hop(t2*exp(-1J * phi),1,1,[1,0])\n",
        "KaneMele.set_hop(t2*exp(1J * phi),1,1,[0,1])\n",
        "KaneMele.set_hop(t2*exp(-1J * phi),1,1,[-1,1])\n",
        "\n",
        "# Sitio B spin down\n",
        "KaneMele.set_hop(t2*exp(1J * phi),3,3,[1,0])\n",
        "KaneMele.set_hop(t2*exp(-1J * phi),3,3,[0,1])\n",
        "KaneMele.set_hop(t2*exp(1J * phi),3,3,[-1,1])"
      ],
      "id": "5c2dcabf",
      "execution_count": null,
      "outputs": []
    },
    {
      "cell_type": "code",
      "metadata": {},
      "source": [
        "KaneMele.visualize(0,1)"
      ],
      "id": "06847f71",
      "execution_count": null,
      "outputs": []
    },
    {
      "cell_type": "code",
      "metadata": {},
      "source": [
        "caminok = [[0,0],[1/2,0],[2/3,1/3],[0,0]]\n",
        "kvec,kdist,knode = KaneMele.k_path(caminok,101,report = False)\n",
        "Ek = KaneMele.solve_all(kvec)"
      ],
      "id": "8c4c4714",
      "execution_count": null,
      "outputs": []
    },
    {
      "cell_type": "code",
      "metadata": {},
      "source": [
        "plot(kdist,Ek[0]);\n",
        "plot(kdist,Ek[1], ls = ':');\n",
        "plot(kdist,Ek[2]);\n",
        "plot(kdist,Ek[3], ls = ':');"
      ],
      "id": "52252bb9",
      "execution_count": null,
      "outputs": []
    },
    {
      "cell_type": "code",
      "metadata": {},
      "source": [
        "sc = KaneMele.make_supercell([[1,0],[1,-2]])\n",
        "ribbons = sc.cut_piece(10,1)\n",
        "\n",
        "ribbons.visualize(0,1)"
      ],
      "id": "52bf7009",
      "execution_count": null,
      "outputs": []
    },
    {
      "cell_type": "code",
      "metadata": {},
      "source": [
        "k = linspace(0,1,100)\n",
        "Ek = ribbons.solve_all(k)\n",
        "\n",
        "plot(k,Ek.T, c = 'k', lw = 0.5, alpha = 0.6);\n",
        "scatter(k[56],Ek[len(Ek)//2 - 1][56])"
      ],
      "id": "a8be176c",
      "execution_count": null,
      "outputs": []
    }
  ],
  "metadata": {
    "kernelspec": {
      "name": "python3",
      "language": "python",
      "display_name": "Python 3 (ipykernel)"
    }
  },
  "nbformat": 4,
  "nbformat_minor": 5
}